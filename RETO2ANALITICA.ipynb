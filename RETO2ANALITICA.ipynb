{
  "nbformat": 4,
  "nbformat_minor": 0,
  "metadata": {
    "colab": {
      "provenance": [],
      "authorship_tag": "ABX9TyNV9Q87uj6Uta6IA2gMZki3",
      "include_colab_link": true
    },
    "kernelspec": {
      "name": "python3",
      "display_name": "Python 3"
    },
    "language_info": {
      "name": "python"
    }
  },
  "cells": [
    {
      "cell_type": "markdown",
      "metadata": {
        "id": "view-in-github",
        "colab_type": "text"
      },
      "source": [
        "<a href=\"https://colab.research.google.com/github/valentinamgavirira/analitica-/blob/main/RETO2ANALITICA.ipynb\" target=\"_parent\"><img src=\"https://colab.research.google.com/assets/colab-badge.svg\" alt=\"Open In Colab\"/></a>"
      ]
    },
    {
      "cell_type": "markdown",
      "source": [
        "DESCRIPCIÓN DE CADA VARIABLE"
      ],
      "metadata": {
        "id": "NhqdjL1DmzWj"
      }
    },
    {
      "cell_type": "markdown",
      "source": [
        "**TechSales_Reps **contienen registros de 21 990\n",
        "representantes de ventas de los grupos de productos de hardware y software de una empresa de alta tecnología. Para cada em-pleado, los datos incluyen información sociodemográﬁ ca y educativa, el salario, el desempeño en ventas y un indicador de personalidad. También se incluye en los datos la puntuación neta del pro-motor, que es un indicador de la satisfacción del cliente con cada representante de ventas.Nombre de la variable Descripción o valores posiblesRep Una identiﬁ cación única para cada representante de ventas\n",
        "**Business**Uno de los dos grupos de productos: Hardware y Software\n",
        "**Age** Edad del empleado\n",
        "**Female** 1 – Mujer0 – Caso contrari\n",
        "**Years** El número de años que el empleado ha estado en la empresa\n",
        "**College**Si el empleado tiene o no un título universitario de cuatro años (Sí/No)\n",
        "**Personality** Analyst (Analista): este tipo de personalidad ejempliﬁ ca la racionalidad. Los analistas tienden a ser de mente abierta y de voluntad fuerte. Lesgusta trabajar de forma independiente y suelen abordar las cosasdesde una perspectiva muy práctica.Diplomat (Diplomático): los diplomáticos se preocupan por laspersonas y tienden a tener mucha empatía hacia los demás.Ejempliﬁ can la cooperación y la diplomacia.Explorer (Explorador): los exploradores son muy prácticos y puedenpensar rápidamente. Tienden a ser muy buenos para tomar decisionesrápidas y racionales en situaciones difíciles.Sentinel (Centinela): los centinelas son cooperativos y prácticos. Lesgusta la estabilidad, el orden y la seguridad. Las personas con estetipo de personalidad tienden a ser trabajadoras y meticulosas.\n",
        "**Certificates **El número de certiﬁ caciones profesionales relevantes que ha obtenido cada empleado.**Feedback** El puntaje de retroalimentación promedio que cada empleado recibede sus compañeros y supervisor en la evaluación anual de 360 grados.Las puntuaciones posibles van de 0 (la más baja) a 4 (la más alta).**Salary** Sueldo base anual de cada empleado.\n",
        "**NPS** El puntaje neto del promotor (NPS) es un indicador clave de lasatisfacción y lealtad del cliente"
      ],
      "metadata": {
        "id": "eHFzauRZkUHu"
      }
    },
    {
      "cell_type": "code",
      "execution_count": null,
      "metadata": {
        "id": "Yic6c0qrJsCK"
      },
      "outputs": [],
      "source": [
        "#CARGO LAS LIBRERIAS\n",
        "import numpy as np\n",
        "import pandas as pd\n",
        "#para implementación y evaluación del modelo\n",
        "from sklearn.tree import DecisionTreeClassifier, export_graphviz\n",
        "from sklearn.metrics import confusion_matrix, classification_report\n",
        "from pydotplus import graph_from_dot_data"
      ]
    },
    {
      "cell_type": "code",
      "source": [
        "#CARGO LA BASE DE DATOS\n",
        "file_path=\"/content/2. TechSalesReport_Int_L.xlsx\"\n",
        "xls=pd.read_excel(file_path)"
      ],
      "metadata": {
        "collapsed": true,
        "id": "RsO96HQBKK1o"
      },
      "execution_count": null,
      "outputs": []
    },
    {
      "cell_type": "code",
      "source": [
        "df_reps = pd.read_excel(file_path, sheet_name=\"TechSales_Reps\")\n",
        "df_pronostico = pd.read_excel(file_path, sheet_name=\"Pronóstico\")"
      ],
      "metadata": {
        "id": "4XOkghTRVwQj"
      },
      "execution_count": null,
      "outputs": []
    },
    {
      "cell_type": "code",
      "source": [
        "# Preprocesamiento de datos\n",
        "df_reps[\"College\"] = df_reps[\"College\"].map({\"Yes\": 1, \"No\": 0})\n",
        "df_reps[\"Business\"] = df_reps[\"Business\"].map({\"Hardware\": 0, \"Software\": 1})"
      ],
      "metadata": {
        "id": "u5f0hAQsWF5m"
      },
      "execution_count": null,
      "outputs": []
    },
    {
      "cell_type": "code",
      "source": [
        "# Eliminar filas con valores nulos en College\n",
        "df_reps = df_reps.dropna(subset=[\"College\"])"
      ],
      "metadata": {
        "id": "TmdS8kqrY1sk"
      },
      "execution_count": null,
      "outputs": []
    },
    {
      "cell_type": "code",
      "source": [
        "# Selección de variables predictoras y objetivo\n",
        "X = df_reps.drop(columns=[\"Sales_Rep\", \"Personality\", \"College\"])\n",
        "y = df_reps[\"College\"]"
      ],
      "metadata": {
        "id": "p6MGBPVkY5wP"
      },
      "execution_count": null,
      "outputs": []
    },
    {
      "cell_type": "code",
      "source": [
        "# Verificar que no haya problemas con los datos\n",
        "if X.empty or y.empty:\n",
        "    raise ValueError(\"Error: No hay suficientes datos para entrenar el modelo. Verifica el archivo de entrada.\")"
      ],
      "metadata": {
        "id": "3kSrIE_OZFf9"
      },
      "execution_count": null,
      "outputs": []
    },
    {
      "cell_type": "code",
      "source": [
        "# Entrenamiento del modelo de Árbol de Decisión\n",
        "clf = DecisionTreeClassifier(criterion=\"gini\", max_depth=4, random_state=42)\n",
        "clf.fit(X, y)"
      ],
      "metadata": {
        "colab": {
          "base_uri": "https://localhost:8080/",
          "height": 80
        },
        "id": "_CBzDzN7ZJAQ",
        "outputId": "0877d618-2a41-468a-9696-527c6223b6f4"
      },
      "execution_count": null,
      "outputs": [
        {
          "output_type": "execute_result",
          "data": {
            "text/plain": [
              "DecisionTreeClassifier(max_depth=4, random_state=42)"
            ],
            "text/html": [
              "<style>#sk-container-id-1 {\n",
              "  /* Definition of color scheme common for light and dark mode */\n",
              "  --sklearn-color-text: #000;\n",
              "  --sklearn-color-text-muted: #666;\n",
              "  --sklearn-color-line: gray;\n",
              "  /* Definition of color scheme for unfitted estimators */\n",
              "  --sklearn-color-unfitted-level-0: #fff5e6;\n",
              "  --sklearn-color-unfitted-level-1: #f6e4d2;\n",
              "  --sklearn-color-unfitted-level-2: #ffe0b3;\n",
              "  --sklearn-color-unfitted-level-3: chocolate;\n",
              "  /* Definition of color scheme for fitted estimators */\n",
              "  --sklearn-color-fitted-level-0: #f0f8ff;\n",
              "  --sklearn-color-fitted-level-1: #d4ebff;\n",
              "  --sklearn-color-fitted-level-2: #b3dbfd;\n",
              "  --sklearn-color-fitted-level-3: cornflowerblue;\n",
              "\n",
              "  /* Specific color for light theme */\n",
              "  --sklearn-color-text-on-default-background: var(--sg-text-color, var(--theme-code-foreground, var(--jp-content-font-color1, black)));\n",
              "  --sklearn-color-background: var(--sg-background-color, var(--theme-background, var(--jp-layout-color0, white)));\n",
              "  --sklearn-color-border-box: var(--sg-text-color, var(--theme-code-foreground, var(--jp-content-font-color1, black)));\n",
              "  --sklearn-color-icon: #696969;\n",
              "\n",
              "  @media (prefers-color-scheme: dark) {\n",
              "    /* Redefinition of color scheme for dark theme */\n",
              "    --sklearn-color-text-on-default-background: var(--sg-text-color, var(--theme-code-foreground, var(--jp-content-font-color1, white)));\n",
              "    --sklearn-color-background: var(--sg-background-color, var(--theme-background, var(--jp-layout-color0, #111)));\n",
              "    --sklearn-color-border-box: var(--sg-text-color, var(--theme-code-foreground, var(--jp-content-font-color1, white)));\n",
              "    --sklearn-color-icon: #878787;\n",
              "  }\n",
              "}\n",
              "\n",
              "#sk-container-id-1 {\n",
              "  color: var(--sklearn-color-text);\n",
              "}\n",
              "\n",
              "#sk-container-id-1 pre {\n",
              "  padding: 0;\n",
              "}\n",
              "\n",
              "#sk-container-id-1 input.sk-hidden--visually {\n",
              "  border: 0;\n",
              "  clip: rect(1px 1px 1px 1px);\n",
              "  clip: rect(1px, 1px, 1px, 1px);\n",
              "  height: 1px;\n",
              "  margin: -1px;\n",
              "  overflow: hidden;\n",
              "  padding: 0;\n",
              "  position: absolute;\n",
              "  width: 1px;\n",
              "}\n",
              "\n",
              "#sk-container-id-1 div.sk-dashed-wrapped {\n",
              "  border: 1px dashed var(--sklearn-color-line);\n",
              "  margin: 0 0.4em 0.5em 0.4em;\n",
              "  box-sizing: border-box;\n",
              "  padding-bottom: 0.4em;\n",
              "  background-color: var(--sklearn-color-background);\n",
              "}\n",
              "\n",
              "#sk-container-id-1 div.sk-container {\n",
              "  /* jupyter's `normalize.less` sets `[hidden] { display: none; }`\n",
              "     but bootstrap.min.css set `[hidden] { display: none !important; }`\n",
              "     so we also need the `!important` here to be able to override the\n",
              "     default hidden behavior on the sphinx rendered scikit-learn.org.\n",
              "     See: https://github.com/scikit-learn/scikit-learn/issues/21755 */\n",
              "  display: inline-block !important;\n",
              "  position: relative;\n",
              "}\n",
              "\n",
              "#sk-container-id-1 div.sk-text-repr-fallback {\n",
              "  display: none;\n",
              "}\n",
              "\n",
              "div.sk-parallel-item,\n",
              "div.sk-serial,\n",
              "div.sk-item {\n",
              "  /* draw centered vertical line to link estimators */\n",
              "  background-image: linear-gradient(var(--sklearn-color-text-on-default-background), var(--sklearn-color-text-on-default-background));\n",
              "  background-size: 2px 100%;\n",
              "  background-repeat: no-repeat;\n",
              "  background-position: center center;\n",
              "}\n",
              "\n",
              "/* Parallel-specific style estimator block */\n",
              "\n",
              "#sk-container-id-1 div.sk-parallel-item::after {\n",
              "  content: \"\";\n",
              "  width: 100%;\n",
              "  border-bottom: 2px solid var(--sklearn-color-text-on-default-background);\n",
              "  flex-grow: 1;\n",
              "}\n",
              "\n",
              "#sk-container-id-1 div.sk-parallel {\n",
              "  display: flex;\n",
              "  align-items: stretch;\n",
              "  justify-content: center;\n",
              "  background-color: var(--sklearn-color-background);\n",
              "  position: relative;\n",
              "}\n",
              "\n",
              "#sk-container-id-1 div.sk-parallel-item {\n",
              "  display: flex;\n",
              "  flex-direction: column;\n",
              "}\n",
              "\n",
              "#sk-container-id-1 div.sk-parallel-item:first-child::after {\n",
              "  align-self: flex-end;\n",
              "  width: 50%;\n",
              "}\n",
              "\n",
              "#sk-container-id-1 div.sk-parallel-item:last-child::after {\n",
              "  align-self: flex-start;\n",
              "  width: 50%;\n",
              "}\n",
              "\n",
              "#sk-container-id-1 div.sk-parallel-item:only-child::after {\n",
              "  width: 0;\n",
              "}\n",
              "\n",
              "/* Serial-specific style estimator block */\n",
              "\n",
              "#sk-container-id-1 div.sk-serial {\n",
              "  display: flex;\n",
              "  flex-direction: column;\n",
              "  align-items: center;\n",
              "  background-color: var(--sklearn-color-background);\n",
              "  padding-right: 1em;\n",
              "  padding-left: 1em;\n",
              "}\n",
              "\n",
              "\n",
              "/* Toggleable style: style used for estimator/Pipeline/ColumnTransformer box that is\n",
              "clickable and can be expanded/collapsed.\n",
              "- Pipeline and ColumnTransformer use this feature and define the default style\n",
              "- Estimators will overwrite some part of the style using the `sk-estimator` class\n",
              "*/\n",
              "\n",
              "/* Pipeline and ColumnTransformer style (default) */\n",
              "\n",
              "#sk-container-id-1 div.sk-toggleable {\n",
              "  /* Default theme specific background. It is overwritten whether we have a\n",
              "  specific estimator or a Pipeline/ColumnTransformer */\n",
              "  background-color: var(--sklearn-color-background);\n",
              "}\n",
              "\n",
              "/* Toggleable label */\n",
              "#sk-container-id-1 label.sk-toggleable__label {\n",
              "  cursor: pointer;\n",
              "  display: flex;\n",
              "  width: 100%;\n",
              "  margin-bottom: 0;\n",
              "  padding: 0.5em;\n",
              "  box-sizing: border-box;\n",
              "  text-align: center;\n",
              "  align-items: start;\n",
              "  justify-content: space-between;\n",
              "  gap: 0.5em;\n",
              "}\n",
              "\n",
              "#sk-container-id-1 label.sk-toggleable__label .caption {\n",
              "  font-size: 0.6rem;\n",
              "  font-weight: lighter;\n",
              "  color: var(--sklearn-color-text-muted);\n",
              "}\n",
              "\n",
              "#sk-container-id-1 label.sk-toggleable__label-arrow:before {\n",
              "  /* Arrow on the left of the label */\n",
              "  content: \"▸\";\n",
              "  float: left;\n",
              "  margin-right: 0.25em;\n",
              "  color: var(--sklearn-color-icon);\n",
              "}\n",
              "\n",
              "#sk-container-id-1 label.sk-toggleable__label-arrow:hover:before {\n",
              "  color: var(--sklearn-color-text);\n",
              "}\n",
              "\n",
              "/* Toggleable content - dropdown */\n",
              "\n",
              "#sk-container-id-1 div.sk-toggleable__content {\n",
              "  max-height: 0;\n",
              "  max-width: 0;\n",
              "  overflow: hidden;\n",
              "  text-align: left;\n",
              "  /* unfitted */\n",
              "  background-color: var(--sklearn-color-unfitted-level-0);\n",
              "}\n",
              "\n",
              "#sk-container-id-1 div.sk-toggleable__content.fitted {\n",
              "  /* fitted */\n",
              "  background-color: var(--sklearn-color-fitted-level-0);\n",
              "}\n",
              "\n",
              "#sk-container-id-1 div.sk-toggleable__content pre {\n",
              "  margin: 0.2em;\n",
              "  border-radius: 0.25em;\n",
              "  color: var(--sklearn-color-text);\n",
              "  /* unfitted */\n",
              "  background-color: var(--sklearn-color-unfitted-level-0);\n",
              "}\n",
              "\n",
              "#sk-container-id-1 div.sk-toggleable__content.fitted pre {\n",
              "  /* unfitted */\n",
              "  background-color: var(--sklearn-color-fitted-level-0);\n",
              "}\n",
              "\n",
              "#sk-container-id-1 input.sk-toggleable__control:checked~div.sk-toggleable__content {\n",
              "  /* Expand drop-down */\n",
              "  max-height: 200px;\n",
              "  max-width: 100%;\n",
              "  overflow: auto;\n",
              "}\n",
              "\n",
              "#sk-container-id-1 input.sk-toggleable__control:checked~label.sk-toggleable__label-arrow:before {\n",
              "  content: \"▾\";\n",
              "}\n",
              "\n",
              "/* Pipeline/ColumnTransformer-specific style */\n",
              "\n",
              "#sk-container-id-1 div.sk-label input.sk-toggleable__control:checked~label.sk-toggleable__label {\n",
              "  color: var(--sklearn-color-text);\n",
              "  background-color: var(--sklearn-color-unfitted-level-2);\n",
              "}\n",
              "\n",
              "#sk-container-id-1 div.sk-label.fitted input.sk-toggleable__control:checked~label.sk-toggleable__label {\n",
              "  background-color: var(--sklearn-color-fitted-level-2);\n",
              "}\n",
              "\n",
              "/* Estimator-specific style */\n",
              "\n",
              "/* Colorize estimator box */\n",
              "#sk-container-id-1 div.sk-estimator input.sk-toggleable__control:checked~label.sk-toggleable__label {\n",
              "  /* unfitted */\n",
              "  background-color: var(--sklearn-color-unfitted-level-2);\n",
              "}\n",
              "\n",
              "#sk-container-id-1 div.sk-estimator.fitted input.sk-toggleable__control:checked~label.sk-toggleable__label {\n",
              "  /* fitted */\n",
              "  background-color: var(--sklearn-color-fitted-level-2);\n",
              "}\n",
              "\n",
              "#sk-container-id-1 div.sk-label label.sk-toggleable__label,\n",
              "#sk-container-id-1 div.sk-label label {\n",
              "  /* The background is the default theme color */\n",
              "  color: var(--sklearn-color-text-on-default-background);\n",
              "}\n",
              "\n",
              "/* On hover, darken the color of the background */\n",
              "#sk-container-id-1 div.sk-label:hover label.sk-toggleable__label {\n",
              "  color: var(--sklearn-color-text);\n",
              "  background-color: var(--sklearn-color-unfitted-level-2);\n",
              "}\n",
              "\n",
              "/* Label box, darken color on hover, fitted */\n",
              "#sk-container-id-1 div.sk-label.fitted:hover label.sk-toggleable__label.fitted {\n",
              "  color: var(--sklearn-color-text);\n",
              "  background-color: var(--sklearn-color-fitted-level-2);\n",
              "}\n",
              "\n",
              "/* Estimator label */\n",
              "\n",
              "#sk-container-id-1 div.sk-label label {\n",
              "  font-family: monospace;\n",
              "  font-weight: bold;\n",
              "  display: inline-block;\n",
              "  line-height: 1.2em;\n",
              "}\n",
              "\n",
              "#sk-container-id-1 div.sk-label-container {\n",
              "  text-align: center;\n",
              "}\n",
              "\n",
              "/* Estimator-specific */\n",
              "#sk-container-id-1 div.sk-estimator {\n",
              "  font-family: monospace;\n",
              "  border: 1px dotted var(--sklearn-color-border-box);\n",
              "  border-radius: 0.25em;\n",
              "  box-sizing: border-box;\n",
              "  margin-bottom: 0.5em;\n",
              "  /* unfitted */\n",
              "  background-color: var(--sklearn-color-unfitted-level-0);\n",
              "}\n",
              "\n",
              "#sk-container-id-1 div.sk-estimator.fitted {\n",
              "  /* fitted */\n",
              "  background-color: var(--sklearn-color-fitted-level-0);\n",
              "}\n",
              "\n",
              "/* on hover */\n",
              "#sk-container-id-1 div.sk-estimator:hover {\n",
              "  /* unfitted */\n",
              "  background-color: var(--sklearn-color-unfitted-level-2);\n",
              "}\n",
              "\n",
              "#sk-container-id-1 div.sk-estimator.fitted:hover {\n",
              "  /* fitted */\n",
              "  background-color: var(--sklearn-color-fitted-level-2);\n",
              "}\n",
              "\n",
              "/* Specification for estimator info (e.g. \"i\" and \"?\") */\n",
              "\n",
              "/* Common style for \"i\" and \"?\" */\n",
              "\n",
              ".sk-estimator-doc-link,\n",
              "a:link.sk-estimator-doc-link,\n",
              "a:visited.sk-estimator-doc-link {\n",
              "  float: right;\n",
              "  font-size: smaller;\n",
              "  line-height: 1em;\n",
              "  font-family: monospace;\n",
              "  background-color: var(--sklearn-color-background);\n",
              "  border-radius: 1em;\n",
              "  height: 1em;\n",
              "  width: 1em;\n",
              "  text-decoration: none !important;\n",
              "  margin-left: 0.5em;\n",
              "  text-align: center;\n",
              "  /* unfitted */\n",
              "  border: var(--sklearn-color-unfitted-level-1) 1pt solid;\n",
              "  color: var(--sklearn-color-unfitted-level-1);\n",
              "}\n",
              "\n",
              ".sk-estimator-doc-link.fitted,\n",
              "a:link.sk-estimator-doc-link.fitted,\n",
              "a:visited.sk-estimator-doc-link.fitted {\n",
              "  /* fitted */\n",
              "  border: var(--sklearn-color-fitted-level-1) 1pt solid;\n",
              "  color: var(--sklearn-color-fitted-level-1);\n",
              "}\n",
              "\n",
              "/* On hover */\n",
              "div.sk-estimator:hover .sk-estimator-doc-link:hover,\n",
              ".sk-estimator-doc-link:hover,\n",
              "div.sk-label-container:hover .sk-estimator-doc-link:hover,\n",
              ".sk-estimator-doc-link:hover {\n",
              "  /* unfitted */\n",
              "  background-color: var(--sklearn-color-unfitted-level-3);\n",
              "  color: var(--sklearn-color-background);\n",
              "  text-decoration: none;\n",
              "}\n",
              "\n",
              "div.sk-estimator.fitted:hover .sk-estimator-doc-link.fitted:hover,\n",
              ".sk-estimator-doc-link.fitted:hover,\n",
              "div.sk-label-container:hover .sk-estimator-doc-link.fitted:hover,\n",
              ".sk-estimator-doc-link.fitted:hover {\n",
              "  /* fitted */\n",
              "  background-color: var(--sklearn-color-fitted-level-3);\n",
              "  color: var(--sklearn-color-background);\n",
              "  text-decoration: none;\n",
              "}\n",
              "\n",
              "/* Span, style for the box shown on hovering the info icon */\n",
              ".sk-estimator-doc-link span {\n",
              "  display: none;\n",
              "  z-index: 9999;\n",
              "  position: relative;\n",
              "  font-weight: normal;\n",
              "  right: .2ex;\n",
              "  padding: .5ex;\n",
              "  margin: .5ex;\n",
              "  width: min-content;\n",
              "  min-width: 20ex;\n",
              "  max-width: 50ex;\n",
              "  color: var(--sklearn-color-text);\n",
              "  box-shadow: 2pt 2pt 4pt #999;\n",
              "  /* unfitted */\n",
              "  background: var(--sklearn-color-unfitted-level-0);\n",
              "  border: .5pt solid var(--sklearn-color-unfitted-level-3);\n",
              "}\n",
              "\n",
              ".sk-estimator-doc-link.fitted span {\n",
              "  /* fitted */\n",
              "  background: var(--sklearn-color-fitted-level-0);\n",
              "  border: var(--sklearn-color-fitted-level-3);\n",
              "}\n",
              "\n",
              ".sk-estimator-doc-link:hover span {\n",
              "  display: block;\n",
              "}\n",
              "\n",
              "/* \"?\"-specific style due to the `<a>` HTML tag */\n",
              "\n",
              "#sk-container-id-1 a.estimator_doc_link {\n",
              "  float: right;\n",
              "  font-size: 1rem;\n",
              "  line-height: 1em;\n",
              "  font-family: monospace;\n",
              "  background-color: var(--sklearn-color-background);\n",
              "  border-radius: 1rem;\n",
              "  height: 1rem;\n",
              "  width: 1rem;\n",
              "  text-decoration: none;\n",
              "  /* unfitted */\n",
              "  color: var(--sklearn-color-unfitted-level-1);\n",
              "  border: var(--sklearn-color-unfitted-level-1) 1pt solid;\n",
              "}\n",
              "\n",
              "#sk-container-id-1 a.estimator_doc_link.fitted {\n",
              "  /* fitted */\n",
              "  border: var(--sklearn-color-fitted-level-1) 1pt solid;\n",
              "  color: var(--sklearn-color-fitted-level-1);\n",
              "}\n",
              "\n",
              "/* On hover */\n",
              "#sk-container-id-1 a.estimator_doc_link:hover {\n",
              "  /* unfitted */\n",
              "  background-color: var(--sklearn-color-unfitted-level-3);\n",
              "  color: var(--sklearn-color-background);\n",
              "  text-decoration: none;\n",
              "}\n",
              "\n",
              "#sk-container-id-1 a.estimator_doc_link.fitted:hover {\n",
              "  /* fitted */\n",
              "  background-color: var(--sklearn-color-fitted-level-3);\n",
              "}\n",
              "</style><div id=\"sk-container-id-1\" class=\"sk-top-container\"><div class=\"sk-text-repr-fallback\"><pre>DecisionTreeClassifier(max_depth=4, random_state=42)</pre><b>In a Jupyter environment, please rerun this cell to show the HTML representation or trust the notebook. <br />On GitHub, the HTML representation is unable to render, please try loading this page with nbviewer.org.</b></div><div class=\"sk-container\" hidden><div class=\"sk-item\"><div class=\"sk-estimator fitted sk-toggleable\"><input class=\"sk-toggleable__control sk-hidden--visually\" id=\"sk-estimator-id-1\" type=\"checkbox\" checked><label for=\"sk-estimator-id-1\" class=\"sk-toggleable__label fitted sk-toggleable__label-arrow\"><div><div>DecisionTreeClassifier</div></div><div><a class=\"sk-estimator-doc-link fitted\" rel=\"noreferrer\" target=\"_blank\" href=\"https://scikit-learn.org/1.6/modules/generated/sklearn.tree.DecisionTreeClassifier.html\">?<span>Documentation for DecisionTreeClassifier</span></a><span class=\"sk-estimator-doc-link fitted\">i<span>Fitted</span></span></div></label><div class=\"sk-toggleable__content fitted\"><pre>DecisionTreeClassifier(max_depth=4, random_state=42)</pre></div> </div></div></div></div>"
            ]
          },
          "metadata": {},
          "execution_count": 8
        }
      ]
    },
    {
      "cell_type": "code",
      "source": [
        "total_personas = df_reps.shape[0]\n",
        "inscritos = df_reps[df_reps[\"College\"] == 1].shape[0]\n",
        "no_inscritos = df_reps[df_reps[\"College\"] == 0].shape[0]\n",
        "\n",
        "print(\"Total de personas:\", total_personas)\n",
        "print(\"Número de personas inscritas:\", inscritos)\n",
        "print(\"Número de personas no inscritas:\", no_inscritos)"
      ],
      "metadata": {
        "colab": {
          "base_uri": "https://localhost:8080/"
        },
        "id": "VntA7VOWiSE3",
        "outputId": "1fa8ec4e-2d2c-4565-e6d8-8bbb5c0ee468"
      },
      "execution_count": null,
      "outputs": [
        {
          "output_type": "stream",
          "name": "stdout",
          "text": [
            "Total de personas: 21990\n",
            "Número de personas inscritas: 17520\n",
            "Número de personas no inscritas: 4470\n"
          ]
        }
      ]
    },
    {
      "cell_type": "code",
      "source": [
        "# Despliegue del árbol de decisión\n",
        "vs = X.columns.tolist()\n",
        "dot_data = export_graphviz(clf, feature_names=vs, filled=True, rounded=True, special_characters=True)\n",
        "graph = graph_from_dot_data(dot_data)\n",
        "graph.write_png(\"TechSales_DecisionTree.png\")"
      ],
      "metadata": {
        "colab": {
          "base_uri": "https://localhost:8080/"
        },
        "id": "0qdB0XJdZNQb",
        "outputId": "999ca0d0-e8a0-4830-a0dc-4b7c7e4d00e8"
      },
      "execution_count": null,
      "outputs": [
        {
          "output_type": "execute_result",
          "data": {
            "text/plain": [
              "True"
            ]
          },
          "metadata": {},
          "execution_count": 10
        }
      ]
    },
    {
      "cell_type": "code",
      "source": [
        "print(\"Número de nodos terminales:\", clf.get_n_leaves())"
      ],
      "metadata": {
        "colab": {
          "base_uri": "https://localhost:8080/"
        },
        "id": "k_NP7MRel0Wv",
        "outputId": "a2e17253-6ff2-4c96-df2d-190ad05dd0f4"
      },
      "execution_count": null,
      "outputs": [
        {
          "output_type": "stream",
          "name": "stdout",
          "text": [
            "Número de nodos terminales: 16\n"
          ]
        }
      ]
    },
    {
      "cell_type": "code",
      "source": [
        "def contar_nodos_puros(arbol):\n",
        "    hojas = arbol.tree_.children_left == -1  # Los nodos hoja tienen -1 en children_left\n",
        "    impuridades = arbol.tree_.impurity[hojas]\n",
        "    nodos_puros = sum(impuridades == 0)  # Un nodo puro tiene impureza = 0\n",
        "    return nodos_puros\n",
        "\n",
        "nodos_puros = contar_nodos_puros(clf)\n",
        "print(f\"Número de nodos puros: {nodos_puros}\")"
      ],
      "metadata": {
        "colab": {
          "base_uri": "https://localhost:8080/"
        },
        "id": "6reuBkxgnKIC",
        "outputId": "2a064a7c-999f-4b2b-f826-1f4977a55f18"
      },
      "execution_count": null,
      "outputs": [
        {
          "output_type": "stream",
          "name": "stdout",
          "text": [
            "Número de nodos puros: 0\n"
          ]
        }
      ]
    },
    {
      "cell_type": "code",
      "source": [
        "# Predicción y evaluación del modelo\n",
        "y_pred = clf.predict(X)\n",
        "cm = confusion_matrix(y, y_pred)\n",
        "print(\"Matriz de Confusión:\\n\", cm)\n",
        "\n",
        "VN, FP, FN, VP = cm.ravel()"
      ],
      "metadata": {
        "colab": {
          "base_uri": "https://localhost:8080/"
        },
        "id": "DTBQ8nr-ZR2_",
        "outputId": "4ea57016-0bb7-4e24-ea35-da6a55b80a3c"
      },
      "execution_count": null,
      "outputs": [
        {
          "output_type": "stream",
          "name": "stdout",
          "text": [
            "Matriz de Confusión:\n",
            " [[  114  4356]\n",
            " [   69 17451]]\n"
          ]
        }
      ]
    },
    {
      "cell_type": "code",
      "source": [
        "# Cálculo de métricas\n",
        "Exactitud = (VP + VN) / (VP + VN + FP + FN)\n",
        "Sensibilidad = VP / (VP + FN)\n",
        "Especificidad = VN / (VN + FP)\n",
        "Precision = VP / (VP + FP)\n",
        "TasaError = (FP + FN) / (VP + VN + FP + FN)\n",
        "PredNeg = VN / (VN + FN)if (VN + FN)\n",
        "\n",
        "# Mostrar métricas\n",
        "print(\"Exactitud:\", Exactitud)\n",
        "print(\"Sensibilidad:\", Sensibilidad)\n",
        "print(\"Especificidad:\", Especificidad)\n",
        "print(\"Precisión:\", Precision)\n",
        "print(\"Tasa de Error:\", TasaError)\n",
        "print(\"Tasa de Predicción Negativa:\", PredNeg)"
      ],
      "metadata": {
        "colab": {
          "base_uri": "https://localhost:8080/",
          "height": 211
        },
        "id": "1nlzHPl3ZY40",
        "outputId": "491fbc19-7986-461c-fb71-572bf6ba1f9e"
      },
      "execution_count": null,
      "outputs": [
        {
          "output_type": "error",
          "ename": "NameError",
          "evalue": "name 'VP' is not defined",
          "traceback": [
            "\u001b[0;31m---------------------------------------------------------------------------\u001b[0m",
            "\u001b[0;31mNameError\u001b[0m                                 Traceback (most recent call last)",
            "\u001b[0;32m<ipython-input-1-544d4fa05475>\u001b[0m in \u001b[0;36m<cell line: 0>\u001b[0;34m()\u001b[0m\n\u001b[1;32m      1\u001b[0m \u001b[0;31m# Cálculo de métricas\u001b[0m\u001b[0;34m\u001b[0m\u001b[0;34m\u001b[0m\u001b[0m\n\u001b[0;32m----> 2\u001b[0;31m \u001b[0mExactitud\u001b[0m \u001b[0;34m=\u001b[0m \u001b[0;34m(\u001b[0m\u001b[0mVP\u001b[0m \u001b[0;34m+\u001b[0m \u001b[0mVN\u001b[0m\u001b[0;34m)\u001b[0m \u001b[0;34m/\u001b[0m \u001b[0;34m(\u001b[0m\u001b[0mVP\u001b[0m \u001b[0;34m+\u001b[0m \u001b[0mVN\u001b[0m \u001b[0;34m+\u001b[0m \u001b[0mFP\u001b[0m \u001b[0;34m+\u001b[0m \u001b[0mFN\u001b[0m\u001b[0;34m)\u001b[0m\u001b[0;34m\u001b[0m\u001b[0;34m\u001b[0m\u001b[0m\n\u001b[0m\u001b[1;32m      3\u001b[0m \u001b[0mSensibilidad\u001b[0m \u001b[0;34m=\u001b[0m \u001b[0mVP\u001b[0m \u001b[0;34m/\u001b[0m \u001b[0;34m(\u001b[0m\u001b[0mVP\u001b[0m \u001b[0;34m+\u001b[0m \u001b[0mFN\u001b[0m\u001b[0;34m)\u001b[0m\u001b[0;34m\u001b[0m\u001b[0;34m\u001b[0m\u001b[0m\n\u001b[1;32m      4\u001b[0m \u001b[0mEspecificidad\u001b[0m \u001b[0;34m=\u001b[0m \u001b[0mVN\u001b[0m \u001b[0;34m/\u001b[0m \u001b[0;34m(\u001b[0m\u001b[0mVN\u001b[0m \u001b[0;34m+\u001b[0m \u001b[0mFP\u001b[0m\u001b[0;34m)\u001b[0m\u001b[0;34m\u001b[0m\u001b[0;34m\u001b[0m\u001b[0m\n\u001b[1;32m      5\u001b[0m \u001b[0mPrecision\u001b[0m \u001b[0;34m=\u001b[0m \u001b[0mVP\u001b[0m \u001b[0;34m/\u001b[0m \u001b[0;34m(\u001b[0m\u001b[0mVP\u001b[0m \u001b[0;34m+\u001b[0m \u001b[0mFP\u001b[0m\u001b[0;34m)\u001b[0m\u001b[0;34m\u001b[0m\u001b[0;34m\u001b[0m\u001b[0m\n",
            "\u001b[0;31mNameError\u001b[0m: name 'VP' is not defined"
          ]
        }
      ]
    },
    {
      "cell_type": "code",
      "source": [
        "# Aplicar modelo a la base de pronóstico\n",
        "df_pronostico[\"Business\"] = df_pronostico[\"Business\"].map({\"Hardware\": 0, \"Software\": 1})\n",
        "X_forecast = df_pronostico.drop(columns=[\"Sales_Rep\", \"Personality\"])"
      ],
      "metadata": {
        "id": "TZ0DzqOEZ9Do"
      },
      "execution_count": null,
      "outputs": []
    },
    {
      "cell_type": "code",
      "source": [
        "# Verificar si hay datos para predecir\n",
        "if not X_forecast.empty:\n",
        "    df_pronostico[\"College_Predicted\"] = clf.predict(X_forecast)\n",
        "    df_pronostico[\"College_Predicted\"] = df_pronostico[\"College_Predicted\"].map({1: \"Yes\", 0: \"No\"})\n",
        "else:\n",
        "    print(\"Advertencia: No hay datos válidos en la base de pronóstico.\")"
      ],
      "metadata": {
        "id": "xIBabb2fZ-Po"
      },
      "execution_count": null,
      "outputs": []
    },
    {
      "cell_type": "code",
      "source": [
        "# Guardar resultados en un archivo Excel\n",
        "output_path = \"TechSales_Pronostico.xlsx\"\n",
        "df_pronostico.to_excel(output_path, index=False)\n",
        "\n",
        "# Mostrar ruta del archivo generado\n",
        "print(\"Archivo guardado en:\", output_path)\n"
      ],
      "metadata": {
        "colab": {
          "base_uri": "https://localhost:8080/"
        },
        "id": "33-cVUmFaCcK",
        "outputId": "28fdb347-d6b6-478d-b926-63d68ce12e20"
      },
      "execution_count": null,
      "outputs": [
        {
          "output_type": "stream",
          "name": "stdout",
          "text": [
            "Archivo guardado en: TechSales_Pronostico.xlsx\n"
          ]
        }
      ]
    },
    {
      "cell_type": "code",
      "source": [
        "# Filtrar los datos según la regla dada\n",
        "filtro = (df_reps[\"Salary\"] <= 64100) & (df_reps[\"Salary\"] > 47100) & \\\n",
        "         (df_reps[\"Age\"] > 39.5) & (df_reps[\"Certificates\"] > 1.5)\n",
        "\n",
        "# Contar el número total de personas que cumplen la condición\n",
        "total_personas = df_reps[filtro].shape[0]\n",
        "\n",
        "# Contar cuántas de esas personas tienen título universitario\n",
        "personas_con_titulo = df_reps[filtro][\"College\"].sum()\n",
        "\n",
        "# Mostrar resultados\n",
        "print(f\"Total de personas que cumplen la condición: {total_personas}\")\n",
        "print(f\"Personas con título universitario dentro del intervalo: {personas_con_titulo}\")"
      ],
      "metadata": {
        "colab": {
          "base_uri": "https://localhost:8080/"
        },
        "id": "3Aj0SR8VnvL_",
        "outputId": "fcd9072c-1efc-4ce9-e3f6-96a6b66cbc9e"
      },
      "execution_count": null,
      "outputs": [
        {
          "output_type": "stream",
          "name": "stdout",
          "text": [
            "Total de personas que cumplen la condición: 1551\n",
            "Personas con título universitario dentro del intervalo: 986\n"
          ]
        }
      ]
    },
    {
      "cell_type": "code",
      "source": [
        "VP"
      ],
      "metadata": {
        "colab": {
          "base_uri": "https://localhost:8080/"
        },
        "id": "X9Eiehgkn6wb",
        "outputId": "8a5acb10-fe94-4ead-d5c4-2caa3fa46c88"
      },
      "execution_count": null,
      "outputs": [
        {
          "output_type": "execute_result",
          "data": {
            "text/plain": [
              "17451"
            ]
          },
          "metadata": {},
          "execution_count": 19
        }
      ]
    },
    {
      "cell_type": "code",
      "source": [
        "# Contar cuántas predicciones dieron 'Yes' (1)\n",
        "num_yes = (df_pronostico[\"College_Predicted\"] == \"Yes\").sum()\n",
        "\n",
        "# Mostrar resultado\n",
        "print(f\"Número de personas pronosticadas con título universitario ('Yes'): {num_yes}\")"
      ],
      "metadata": {
        "colab": {
          "base_uri": "https://localhost:8080/"
        },
        "id": "jA1IAMgzod1l",
        "outputId": "5fe393e3-1991-4a2f-e8e5-946d1246bcbd"
      },
      "execution_count": null,
      "outputs": [
        {
          "output_type": "stream",
          "name": "stdout",
          "text": [
            "Número de personas pronosticadas con título universitario ('Yes'): 16\n"
          ]
        }
      ]
    },
    {
      "cell_type": "code",
      "source": [
        "VN"
      ],
      "metadata": {
        "id": "W81o10LLoyJC",
        "outputId": "ac5207e6-6270-4b54-95e1-8b16346e2630",
        "colab": {
          "base_uri": "https://localhost:8080/"
        }
      },
      "execution_count": null,
      "outputs": [
        {
          "output_type": "execute_result",
          "data": {
            "text/plain": [
              "114"
            ]
          },
          "metadata": {},
          "execution_count": 22
        }
      ]
    },
    {
      "cell_type": "code",
      "source": [
        "# Filtrar datos según la condición dada\n",
        "filtro = (df_reps[\"Salary\"] <= 64100) & (df_reps[\"Salary\"] > 47100) & \\\n",
        "         (df_reps[\"Age\"] > 39.5) & (df_reps[\"Certificates\"] <= 1.5) & (df_reps[\"College\"] == 0)\n",
        "\n",
        "# Contar cuántas personas cumplen la condición\n",
        "num_no_college = df_reps[filtro].shape[0]\n",
        "\n",
        "# Mostrar el resultado\n",
        "print(f\"Número de personas sin título universitario en el intervalo dado: {num_no_college}\")"
      ],
      "metadata": {
        "colab": {
          "base_uri": "https://localhost:8080/"
        },
        "id": "5FxqLy2WpEW_",
        "outputId": "8272a334-d0d9-418a-c0c7-79bd5d1877c0"
      },
      "execution_count": null,
      "outputs": [
        {
          "output_type": "stream",
          "name": "stdout",
          "text": [
            "Número de personas sin título universitario en el intervalo dado: 356\n"
          ]
        }
      ]
    },
    {
      "cell_type": "code",
      "source": [
        "print(f\"Número de datos utilizados para entrenar el modelo: {X.shape[0]}\")"
      ],
      "metadata": {
        "id": "h_LaElvXpR7y",
        "outputId": "67f5c6b6-eda0-4852-a284-15e3006bec21",
        "colab": {
          "base_uri": "https://localhost:8080/"
        }
      },
      "execution_count": null,
      "outputs": [
        {
          "output_type": "stream",
          "name": "stdout",
          "text": [
            "Número de datos utilizados para entrenar el modelo: 21990\n"
          ]
        }
      ]
    },
    {
      "cell_type": "markdown",
      "source": [
        "analisis. para la implementacion del modelo de arbol de decision se tomaron un total de 4 variables, para la construccion del modelo se tuvieron un total de 21990, de las cuales el Número de personas inscritas fueron 17520 y el Número de personas no inscritas fue de 4470. luego de la ejecucion del modelo se logro una exactitud cercana al 80%, tambien una precisión cercana al 80% y una tasa de error cercana al 20%; logramos"
      ],
      "metadata": {
        "id": "ADkplPyAJrv5"
      }
    }
  ]
}